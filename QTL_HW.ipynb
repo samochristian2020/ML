{
 "cells": [
  {
   "cell_type": "markdown",
   "id": "f5bc4ff6-463b-4bb6-933f-e011545065d4",
   "metadata": {
    "tags": []
   },
   "source": [
    "#### 1. Importing the dataset"
   ]
  },
  {
   "cell_type": "code",
   "execution_count": 1,
   "id": "5b8be508-5ae2-48d0-9a9d-bf3398bd6bdb",
   "metadata": {
    "tags": []
   },
   "outputs": [],
   "source": [
    "import pandas as pd\n",
    "\n",
    "#reading the dataset in the workspace \n",
    "data = pd.read_csv(\"QTL_HW.csv\", header=None)"
   ]
  },
  {
   "cell_type": "code",
   "execution_count": 2,
   "id": "38445348-cd9c-42aa-9a2e-e6b455aa2f9c",
   "metadata": {},
   "outputs": [
    {
     "data": {
      "text/plain": [
       "(360, 11)"
      ]
     },
     "execution_count": 2,
     "metadata": {},
     "output_type": "execute_result"
    }
   ],
   "source": [
    "# dimensions of the dataset\n",
    "data.shape"
   ]
  },
  {
   "cell_type": "code",
   "execution_count": 3,
   "id": "b5267626-121e-4501-a20d-8127543e1f8a",
   "metadata": {
    "tags": []
   },
   "outputs": [
    {
     "data": {
      "text/html": [
       "<div>\n",
       "<style scoped>\n",
       "    .dataframe tbody tr th:only-of-type {\n",
       "        vertical-align: middle;\n",
       "    }\n",
       "\n",
       "    .dataframe tbody tr th {\n",
       "        vertical-align: top;\n",
       "    }\n",
       "\n",
       "    .dataframe thead th {\n",
       "        text-align: right;\n",
       "    }\n",
       "</style>\n",
       "<table border=\"1\" class=\"dataframe\">\n",
       "  <thead>\n",
       "    <tr style=\"text-align: right;\">\n",
       "      <th></th>\n",
       "      <th>0</th>\n",
       "      <th>1</th>\n",
       "      <th>2</th>\n",
       "      <th>3</th>\n",
       "      <th>4</th>\n",
       "      <th>5</th>\n",
       "      <th>6</th>\n",
       "      <th>7</th>\n",
       "      <th>8</th>\n",
       "      <th>9</th>\n",
       "      <th>10</th>\n",
       "    </tr>\n",
       "  </thead>\n",
       "  <tbody>\n",
       "    <tr>\n",
       "      <th>0</th>\n",
       "      <td>183.61</td>\n",
       "      <td>0</td>\n",
       "      <td>0</td>\n",
       "      <td>0</td>\n",
       "      <td>1</td>\n",
       "      <td>0</td>\n",
       "      <td>1</td>\n",
       "      <td>1</td>\n",
       "      <td>0</td>\n",
       "      <td>0</td>\n",
       "      <td>0</td>\n",
       "    </tr>\n",
       "    <tr>\n",
       "      <th>1</th>\n",
       "      <td>180.82</td>\n",
       "      <td>0</td>\n",
       "      <td>0</td>\n",
       "      <td>1</td>\n",
       "      <td>1</td>\n",
       "      <td>1</td>\n",
       "      <td>1</td>\n",
       "      <td>1</td>\n",
       "      <td>0</td>\n",
       "      <td>0</td>\n",
       "      <td>1</td>\n",
       "    </tr>\n",
       "    <tr>\n",
       "      <th>2</th>\n",
       "      <td>183.29</td>\n",
       "      <td>1</td>\n",
       "      <td>1</td>\n",
       "      <td>1</td>\n",
       "      <td>1</td>\n",
       "      <td>1</td>\n",
       "      <td>0</td>\n",
       "      <td>1</td>\n",
       "      <td>0</td>\n",
       "      <td>0</td>\n",
       "      <td>0</td>\n",
       "    </tr>\n",
       "    <tr>\n",
       "      <th>3</th>\n",
       "      <td>191.86</td>\n",
       "      <td>1</td>\n",
       "      <td>1</td>\n",
       "      <td>1</td>\n",
       "      <td>1</td>\n",
       "      <td>1</td>\n",
       "      <td>1</td>\n",
       "      <td>1</td>\n",
       "      <td>1</td>\n",
       "      <td>0</td>\n",
       "      <td>0</td>\n",
       "    </tr>\n",
       "    <tr>\n",
       "      <th>4</th>\n",
       "      <td>194.46</td>\n",
       "      <td>0</td>\n",
       "      <td>0</td>\n",
       "      <td>1</td>\n",
       "      <td>1</td>\n",
       "      <td>0</td>\n",
       "      <td>0</td>\n",
       "      <td>1</td>\n",
       "      <td>1</td>\n",
       "      <td>0</td>\n",
       "      <td>1</td>\n",
       "    </tr>\n",
       "    <tr>\n",
       "      <th>...</th>\n",
       "      <td>...</td>\n",
       "      <td>...</td>\n",
       "      <td>...</td>\n",
       "      <td>...</td>\n",
       "      <td>...</td>\n",
       "      <td>...</td>\n",
       "      <td>...</td>\n",
       "      <td>...</td>\n",
       "      <td>...</td>\n",
       "      <td>...</td>\n",
       "      <td>...</td>\n",
       "    </tr>\n",
       "    <tr>\n",
       "      <th>355</th>\n",
       "      <td>193.98</td>\n",
       "      <td>0</td>\n",
       "      <td>1</td>\n",
       "      <td>1</td>\n",
       "      <td>1</td>\n",
       "      <td>0</td>\n",
       "      <td>0</td>\n",
       "      <td>1</td>\n",
       "      <td>1</td>\n",
       "      <td>0</td>\n",
       "      <td>1</td>\n",
       "    </tr>\n",
       "    <tr>\n",
       "      <th>356</th>\n",
       "      <td>184.50</td>\n",
       "      <td>1</td>\n",
       "      <td>1</td>\n",
       "      <td>1</td>\n",
       "      <td>1</td>\n",
       "      <td>0</td>\n",
       "      <td>1</td>\n",
       "      <td>1</td>\n",
       "      <td>1</td>\n",
       "      <td>0</td>\n",
       "      <td>0</td>\n",
       "    </tr>\n",
       "    <tr>\n",
       "      <th>357</th>\n",
       "      <td>189.54</td>\n",
       "      <td>0</td>\n",
       "      <td>1</td>\n",
       "      <td>1</td>\n",
       "      <td>1</td>\n",
       "      <td>1</td>\n",
       "      <td>1</td>\n",
       "      <td>1</td>\n",
       "      <td>1</td>\n",
       "      <td>0</td>\n",
       "      <td>1</td>\n",
       "    </tr>\n",
       "    <tr>\n",
       "      <th>358</th>\n",
       "      <td>85.25</td>\n",
       "      <td>1</td>\n",
       "      <td>-1</td>\n",
       "      <td>0 0.00000</td>\n",
       "      <td>0 1.00000</td>\n",
       "      <td>0 1.00000</td>\n",
       "      <td>0 0.00000</td>\n",
       "      <td>0 1.00000</td>\n",
       "      <td>0 0.00000</td>\n",
       "      <td>0 1.00000</td>\n",
       "      <td>0 0.000000</td>\n",
       "    </tr>\n",
       "    <tr>\n",
       "      <th>359</th>\n",
       "      <td>185.25</td>\n",
       "      <td>0</td>\n",
       "      <td>0</td>\n",
       "      <td>1</td>\n",
       "      <td>1</td>\n",
       "      <td>0</td>\n",
       "      <td>1</td>\n",
       "      <td>1</td>\n",
       "      <td>1</td>\n",
       "      <td>0</td>\n",
       "      <td>0</td>\n",
       "    </tr>\n",
       "  </tbody>\n",
       "</table>\n",
       "<p>360 rows × 11 columns</p>\n",
       "</div>"
      ],
      "text/plain": [
       "         0   1   2          3          4          5          6          7   \\\n",
       "0    183.61   0   0          0          1          0          1          1   \n",
       "1    180.82   0   0          1          1          1          1          1   \n",
       "2    183.29   1   1          1          1          1          0          1   \n",
       "3    191.86   1   1          1          1          1          1          1   \n",
       "4    194.46   0   0          1          1          0          0          1   \n",
       "..      ...  ..  ..        ...        ...        ...        ...        ...   \n",
       "355  193.98   0   1          1          1          0          0          1   \n",
       "356  184.50   1   1          1          1          0          1          1   \n",
       "357  189.54   0   1          1          1          1          1          1   \n",
       "358   85.25   1  -1  0 0.00000  0 1.00000  0 1.00000  0 0.00000  0 1.00000   \n",
       "359  185.25   0   0          1          1          0          1          1   \n",
       "\n",
       "            8          9           10  \n",
       "0            0          0           0  \n",
       "1            0          0           1  \n",
       "2            0          0           0  \n",
       "3            1          0           0  \n",
       "4            1          0           1  \n",
       "..         ...        ...         ...  \n",
       "355          1          0           1  \n",
       "356          1          0           0  \n",
       "357          1          0           1  \n",
       "358  0 0.00000  0 1.00000  0 0.000000  \n",
       "359          1          0           0  \n",
       "\n",
       "[360 rows x 11 columns]"
      ]
     },
     "execution_count": 3,
     "metadata": {},
     "output_type": "execute_result"
    }
   ],
   "source": [
    "data"
   ]
  },
  {
   "cell_type": "markdown",
   "id": "97347241-939e-4412-930c-1ca1ba816309",
   "metadata": {},
   "source": [
    "##### *__we observe that the 358th data point fly is somewhat corrupted.__*\n",
    "##### values are have two digit and blank before the decimal point and there is an unexpected negative number for the second locus\n",
    "\n",
    "##### Plus the obseved frequency for that data point seems to be the only one too different from all others: its value is \n",
    "##### __85.54__ while all others are between : __170.68 and 200.08.__\n",
    "##### *__We decide to drop that data point as we suspect an outlier__*"
   ]
  },
  {
   "cell_type": "code",
   "execution_count": 4,
   "id": "69105249-7a7f-4481-bb55-2b4d01175fec",
   "metadata": {
    "tags": []
   },
   "outputs": [],
   "source": [
    "data_rem=data.drop(358, axis='index')"
   ]
  },
  {
   "cell_type": "code",
   "execution_count": 5,
   "id": "59bd0678-b95f-4007-a5fa-df95bd99d047",
   "metadata": {
    "tags": []
   },
   "outputs": [
    {
     "data": {
      "text/html": [
       "<div>\n",
       "<style scoped>\n",
       "    .dataframe tbody tr th:only-of-type {\n",
       "        vertical-align: middle;\n",
       "    }\n",
       "\n",
       "    .dataframe tbody tr th {\n",
       "        vertical-align: top;\n",
       "    }\n",
       "\n",
       "    .dataframe thead th {\n",
       "        text-align: right;\n",
       "    }\n",
       "</style>\n",
       "<table border=\"1\" class=\"dataframe\">\n",
       "  <thead>\n",
       "    <tr style=\"text-align: right;\">\n",
       "      <th></th>\n",
       "      <th>0</th>\n",
       "      <th>1</th>\n",
       "      <th>2</th>\n",
       "      <th>3</th>\n",
       "      <th>4</th>\n",
       "      <th>5</th>\n",
       "      <th>6</th>\n",
       "      <th>7</th>\n",
       "      <th>8</th>\n",
       "      <th>9</th>\n",
       "      <th>10</th>\n",
       "    </tr>\n",
       "  </thead>\n",
       "  <tbody>\n",
       "    <tr>\n",
       "      <th>0</th>\n",
       "      <td>183.61</td>\n",
       "      <td>0</td>\n",
       "      <td>0</td>\n",
       "      <td>0</td>\n",
       "      <td>1</td>\n",
       "      <td>0</td>\n",
       "      <td>1</td>\n",
       "      <td>1</td>\n",
       "      <td>0</td>\n",
       "      <td>0</td>\n",
       "      <td>0</td>\n",
       "    </tr>\n",
       "    <tr>\n",
       "      <th>1</th>\n",
       "      <td>180.82</td>\n",
       "      <td>0</td>\n",
       "      <td>0</td>\n",
       "      <td>1</td>\n",
       "      <td>1</td>\n",
       "      <td>1</td>\n",
       "      <td>1</td>\n",
       "      <td>1</td>\n",
       "      <td>0</td>\n",
       "      <td>0</td>\n",
       "      <td>1</td>\n",
       "    </tr>\n",
       "    <tr>\n",
       "      <th>2</th>\n",
       "      <td>183.29</td>\n",
       "      <td>1</td>\n",
       "      <td>1</td>\n",
       "      <td>1</td>\n",
       "      <td>1</td>\n",
       "      <td>1</td>\n",
       "      <td>0</td>\n",
       "      <td>1</td>\n",
       "      <td>0</td>\n",
       "      <td>0</td>\n",
       "      <td>0</td>\n",
       "    </tr>\n",
       "    <tr>\n",
       "      <th>3</th>\n",
       "      <td>191.86</td>\n",
       "      <td>1</td>\n",
       "      <td>1</td>\n",
       "      <td>1</td>\n",
       "      <td>1</td>\n",
       "      <td>1</td>\n",
       "      <td>1</td>\n",
       "      <td>1</td>\n",
       "      <td>1</td>\n",
       "      <td>0</td>\n",
       "      <td>0</td>\n",
       "    </tr>\n",
       "    <tr>\n",
       "      <th>4</th>\n",
       "      <td>194.46</td>\n",
       "      <td>0</td>\n",
       "      <td>0</td>\n",
       "      <td>1</td>\n",
       "      <td>1</td>\n",
       "      <td>0</td>\n",
       "      <td>0</td>\n",
       "      <td>1</td>\n",
       "      <td>1</td>\n",
       "      <td>0</td>\n",
       "      <td>1</td>\n",
       "    </tr>\n",
       "    <tr>\n",
       "      <th>...</th>\n",
       "      <td>...</td>\n",
       "      <td>...</td>\n",
       "      <td>...</td>\n",
       "      <td>...</td>\n",
       "      <td>...</td>\n",
       "      <td>...</td>\n",
       "      <td>...</td>\n",
       "      <td>...</td>\n",
       "      <td>...</td>\n",
       "      <td>...</td>\n",
       "      <td>...</td>\n",
       "    </tr>\n",
       "    <tr>\n",
       "      <th>354</th>\n",
       "      <td>181.17</td>\n",
       "      <td>0</td>\n",
       "      <td>0</td>\n",
       "      <td>0</td>\n",
       "      <td>1</td>\n",
       "      <td>1</td>\n",
       "      <td>1</td>\n",
       "      <td>1</td>\n",
       "      <td>1</td>\n",
       "      <td>0</td>\n",
       "      <td>0</td>\n",
       "    </tr>\n",
       "    <tr>\n",
       "      <th>355</th>\n",
       "      <td>193.98</td>\n",
       "      <td>0</td>\n",
       "      <td>1</td>\n",
       "      <td>1</td>\n",
       "      <td>1</td>\n",
       "      <td>0</td>\n",
       "      <td>0</td>\n",
       "      <td>1</td>\n",
       "      <td>1</td>\n",
       "      <td>0</td>\n",
       "      <td>1</td>\n",
       "    </tr>\n",
       "    <tr>\n",
       "      <th>356</th>\n",
       "      <td>184.50</td>\n",
       "      <td>1</td>\n",
       "      <td>1</td>\n",
       "      <td>1</td>\n",
       "      <td>1</td>\n",
       "      <td>0</td>\n",
       "      <td>1</td>\n",
       "      <td>1</td>\n",
       "      <td>1</td>\n",
       "      <td>0</td>\n",
       "      <td>0</td>\n",
       "    </tr>\n",
       "    <tr>\n",
       "      <th>357</th>\n",
       "      <td>189.54</td>\n",
       "      <td>0</td>\n",
       "      <td>1</td>\n",
       "      <td>1</td>\n",
       "      <td>1</td>\n",
       "      <td>1</td>\n",
       "      <td>1</td>\n",
       "      <td>1</td>\n",
       "      <td>1</td>\n",
       "      <td>0</td>\n",
       "      <td>1</td>\n",
       "    </tr>\n",
       "    <tr>\n",
       "      <th>359</th>\n",
       "      <td>185.25</td>\n",
       "      <td>0</td>\n",
       "      <td>0</td>\n",
       "      <td>1</td>\n",
       "      <td>1</td>\n",
       "      <td>0</td>\n",
       "      <td>1</td>\n",
       "      <td>1</td>\n",
       "      <td>1</td>\n",
       "      <td>0</td>\n",
       "      <td>0</td>\n",
       "    </tr>\n",
       "  </tbody>\n",
       "</table>\n",
       "<p>359 rows × 11 columns</p>\n",
       "</div>"
      ],
      "text/plain": [
       "         0   1   2  3  4  5  6  7  8  9  10\n",
       "0    183.61   0   0  0  1  0  1  1  0  0  0\n",
       "1    180.82   0   0  1  1  1  1  1  0  0  1\n",
       "2    183.29   1   1  1  1  1  0  1  0  0  0\n",
       "3    191.86   1   1  1  1  1  1  1  1  0  0\n",
       "4    194.46   0   0  1  1  0  0  1  1  0  1\n",
       "..      ...  ..  .. .. .. .. .. .. .. .. ..\n",
       "354  181.17   0   0  0  1  1  1  1  1  0  0\n",
       "355  193.98   0   1  1  1  0  0  1  1  0  1\n",
       "356  184.50   1   1  1  1  0  1  1  1  0  0\n",
       "357  189.54   0   1  1  1  1  1  1  1  0  1\n",
       "359  185.25   0   0  1  1  0  1  1  1  0  0\n",
       "\n",
       "[359 rows x 11 columns]"
      ]
     },
     "execution_count": 5,
     "metadata": {},
     "output_type": "execute_result"
    }
   ],
   "source": [
    "data_rem"
   ]
  },
  {
   "cell_type": "code",
   "execution_count": 6,
   "id": "cfc45e20-3308-4ffb-999b-c709aee193c5",
   "metadata": {
    "tags": []
   },
   "outputs": [],
   "source": [
    "import numpy as np"
   ]
  },
  {
   "cell_type": "code",
   "execution_count": 7,
   "id": "14f31d4f-62c2-44a0-8805-338f75c796c0",
   "metadata": {
    "tags": []
   },
   "outputs": [
    {
     "name": "stdout",
     "output_type": "stream",
     "text": [
      "shape of frequencies array is (359,) and dtype is : float64\n"
     ]
    }
   ],
   "source": [
    "# sine song frequencies \n",
    "f = np.array(data_rem[0])\n",
    "print(\"shape of frequencies array is\", f.shape, \"and dtype is :\", f.dtype)"
   ]
  },
  {
   "cell_type": "code",
   "execution_count": 8,
   "id": "bb5cd1cd-a814-4c37-8f41-f1cf68f00bce",
   "metadata": {
    "tags": []
   },
   "outputs": [
    {
     "name": "stdout",
     "output_type": "stream",
     "text": [
      "shape of the genotype array for the 5th locus is: (359,) and dtype is : float64\n"
     ]
    }
   ],
   "source": [
    "# genotype array for all 10 loci\n",
    "g = np.array([data_rem[i] for i in range(1,11)], dtype=\"float64\")\n",
    "print(\"shape of the genotype array for the 5th locus is:\", g[5].shape, \"and dtype is :\", g.dtype)"
   ]
  },
  {
   "cell_type": "markdown",
   "id": "7f0fe60a-3e5d-4763-8f3c-5ea1a29140c8",
   "metadata": {},
   "source": [
    "#### 2. Recalling the expression of the Ratio\n",
    "\n",
    "$Ratio = \\dfrac{P(D|a_*, b_*, \\sigma, QTL)}{P(D|c_*, \\sigma, NQTL)} \\times \\sqrt{\\dfrac{2\\pi/N}{\\bar{gg} - \\bar{g}\\bar{g}}}\\times \\sigma \\times \\dfrac{\\sigma_{c}}{\\sigma_{a}\\sigma_{b}}$\n",
    "\n"
   ]
  },
  {
   "cell_type": "markdown",
   "id": "67843404-3067-4380-a9ff-e2888c691fc4",
   "metadata": {},
   "source": [
    "#### 3. Expressions of parameters in the Ratio  \n",
    " \n",
    "\n",
    "$\\bar{f} = \\frac{1}{N}\\sum{f_k}$           \n",
    "\n",
    "$\\bar{g} = \\frac{1}{N}\\sum{g_k}$\n",
    "\n",
    "$ \\bar{fg} = \\frac{1}{N}\\sum{f_kg_k}$\n",
    "\n",
    "$\\bar{gg} = \\frac{1}{N}\\sum{g_kg_k}$"
   ]
  },
  {
   "cell_type": "code",
   "execution_count": 9,
   "id": "c3df5ec9-c94c-466d-a758-0afcd2094a1d",
   "metadata": {
    "tags": []
   },
   "outputs": [
    {
     "data": {
      "text/plain": [
       "(359,)"
      ]
     },
     "execution_count": 9,
     "metadata": {},
     "output_type": "execute_result"
    }
   ],
   "source": [
    "f.shape"
   ]
  },
  {
   "cell_type": "code",
   "execution_count": 10,
   "id": "1853aa75-7257-4538-9410-c5a1f4c72216",
   "metadata": {
    "tags": []
   },
   "outputs": [
    {
     "data": {
      "text/plain": [
       "(10, 359)"
      ]
     },
     "execution_count": 10,
     "metadata": {},
     "output_type": "execute_result"
    }
   ],
   "source": [
    "g.shape"
   ]
  },
  {
   "cell_type": "code",
   "execution_count": 11,
   "id": "8e91e5c3-186e-4f3e-9b2a-a5c4d58c8fe1",
   "metadata": {
    "tags": []
   },
   "outputs": [
    {
     "data": {
      "text/plain": [
       "(359,)"
      ]
     },
     "execution_count": 11,
     "metadata": {},
     "output_type": "execute_result"
    }
   ],
   "source": [
    "np.multiply(f, g[1,:]).shape"
   ]
  },
  {
   "cell_type": "code",
   "execution_count": null,
   "id": "45021837-56e3-40a4-a6e0-9cc693891494",
   "metadata": {
    "tags": []
   },
   "outputs": [],
   "source": []
  },
  {
   "cell_type": "code",
   "execution_count": 12,
   "id": "b6504558-f955-4d3b-aced-40845ce0d359",
   "metadata": {
    "tags": []
   },
   "outputs": [],
   "source": [
    "# calculations\n",
    "\n",
    "N = g.shape[1]\n",
    "\n",
    "f_bar = f.mean()\n",
    "\n",
    "g_bar = g.mean(axis=1)\n",
    "\n",
    "fg_bar = np.mean(np.array([np.multiply(f, g[i,:]) for i in range(g.shape[0])]), axis=1)\n",
    "\n",
    "gg_bar = np.mean(np.array([np.multiply(g[i,:], g[i,:]) for i in range(g.shape[0])]), axis=1)"
   ]
  },
  {
   "cell_type": "code",
   "execution_count": null,
   "id": "fa2482ec-7b2a-4df5-a76b-9263d01c2f33",
   "metadata": {},
   "outputs": [],
   "source": []
  },
  {
   "cell_type": "markdown",
   "id": "ff630691-68b1-4a9b-90b3-790cc9f35e49",
   "metadata": {},
   "source": [
    "\n",
    "\n",
    "For the Factor_1 : $\\sqrt{\\dfrac{2\\pi/N}{\\bar{gg} - (\\bar{g})^2}}\\times \\sigma \\times \\dfrac{\\sigma_{c}}{\\sigma_{a}\\sigma_{b}}$\n",
    "\n",
    "We have, \n",
    "  $\\sigma = \\sqrt{\\dfrac{\\sum{(f_k -\\bar{f})^2}}{N}}$ and $\\sigma_a=\\dfrac{\\sigma}{\\sqrt{N}}$ and $ \\sigma_b=\\dfrac{\\sigma}{\\sqrt{N\\times \\bar{gg}}} $ and $ \\sigma_c=\\dfrac{\\sigma}{\\sqrt{N}}$\n",
    "\n"
   ]
  },
  {
   "cell_type": "code",
   "execution_count": 13,
   "id": "aed60e97-c34c-47ac-8ee5-2186a2b53e62",
   "metadata": {
    "tags": []
   },
   "outputs": [],
   "source": [
    "sigma = np.sqrt(np.mean((f-f_bar)*(f-f_bar)))\n",
    "\n",
    "sigma_a = sigma/np.sqrt(N)\n",
    "\n",
    "sigma_b = sigma/np.sqrt(N*gg_bar)\n",
    "\n",
    "sigma_c = sigma/np.sqrt(N)\n",
    "\n",
    "Factor_1 = np.sqrt((((2*np.pi)/N)/(gg_bar - g_bar*g_bar)))*((sigma*sigma_c)/(sigma_a*sigma_b))"
   ]
  },
  {
   "cell_type": "code",
   "execution_count": null,
   "id": "ebddcdb6-3ac6-445e-a6c5-e8d64bc70f2d",
   "metadata": {
    "tags": []
   },
   "outputs": [],
   "source": []
  },
  {
   "cell_type": "code",
   "execution_count": null,
   "id": "4e72dbe0-e9e0-4f3e-97bb-11a63b509e39",
   "metadata": {
    "tags": []
   },
   "outputs": [],
   "source": []
  },
  {
   "cell_type": "markdown",
   "id": "9db5dbbc-0f3d-4e51-a6ca-e62bd960089b",
   "metadata": {},
   "source": [
    "For the Factor_2 : $\\dfrac{P(D|a_*, b_*, \\sigma, QTL)}{P(D|c_*, \\sigma, NQTL)} $\n",
    "\n",
    "\n",
    "$a_*= \\bar{f}-b_*\\bar{g}$ and  $b_*= \\dfrac{\\bar{fg}-\\bar{f}\\bar{g}}{\\bar{gg}-\\bar{g}\\bar{g}}$ and $\\sigma = \\sqrt{\\dfrac{\\sum{(f_k -\\bar{f})^2}}{N}}$  and $c_{*} = \\bar{f}$"
   ]
  },
  {
   "cell_type": "code",
   "execution_count": 14,
   "id": "82edbfe9-0486-43ac-bc9d-98b1de6b7a99",
   "metadata": {
    "tags": []
   },
   "outputs": [],
   "source": [
    "b_star = (fg_bar - f_bar*g_bar)/(gg_bar - g_bar*g_bar) \n",
    "\n",
    "a_star = f_bar - b_star*g_bar\n",
    "\n",
    "c_star = f_bar\n",
    "\n",
    "sigma = np.sqrt(np.mean((f-f_bar)*(f-f_bar)))\n",
    " "
   ]
  },
  {
   "cell_type": "markdown",
   "id": "ffdfcdb1-a138-44fc-874c-10986cb48106",
   "metadata": {},
   "source": [
    "#### 3. Estimating posterior probabilities   \n",
    "\n",
    "$P(D|a_*, b_*, \\sigma, QTL) = \\dfrac{1}{(\\sigma\\sqrt{2\\pi})^N} exp[-\\dfrac{\\sum{(f_k - a_* - b_*g_k)^2}}{2\\sigma^2}] $\n",
    "\n",
    "\n",
    "$P(D|c_*, \\sigma, NQTL) = \\dfrac{1}{(\\sigma\\sqrt{2\\pi})^N} exp[-\\dfrac{\\sum{(f_k - c_*)^2}}{2\\sigma^2}] $\n",
    "\n",
    " Factor_2 = $\\dfrac{P(D|a_*, b_*, \\sigma, QTL)}{P(D|c_*, \\sigma, NQTL)} = \\dfrac{exp[-\\dfrac{\\sum{(f_k - a_* - b_*g_k)^2}}{2\\sigma^2}]}{exp[-\\dfrac{\\sum{(f_k - c_*)^2}}{2\\sigma^2}]} $\n",
    "\n",
    "\n"
   ]
  },
  {
   "cell_type": "code",
   "execution_count": 15,
   "id": "0f355e3e-2730-489e-8baf-ee8f901ffcf0",
   "metadata": {
    "tags": []
   },
   "outputs": [],
   "source": [
    "Prob_num = np.exp(-np.sum((((np.array([f - a_star[k] - b_star[k]*g[k,:] for k in range(g.shape[0])]))**2))/(2*(sigma**2)),\n",
    "                          axis=1))"
   ]
  },
  {
   "cell_type": "code",
   "execution_count": null,
   "id": "9f9cbe5c-1074-4d63-a4ad-3ee44d7ba6af",
   "metadata": {
    "tags": []
   },
   "outputs": [],
   "source": []
  },
  {
   "cell_type": "code",
   "execution_count": 16,
   "id": "756c33aa-a46f-4f2f-a269-a646113435a6",
   "metadata": {
    "tags": []
   },
   "outputs": [],
   "source": [
    "Prob_dem = np.exp(-np.sum(((f - c_star)**2)/(2*(sigma**2))))"
   ]
  },
  {
   "cell_type": "code",
   "execution_count": 17,
   "id": "33242b28-d9d0-4ec0-b4ee-194434994807",
   "metadata": {
    "tags": []
   },
   "outputs": [],
   "source": [
    "Factor_2 = Prob_num/Prob_dem"
   ]
  },
  {
   "cell_type": "code",
   "execution_count": null,
   "id": "161c59dd-cbe7-48fa-a4c7-7d17b742a6d5",
   "metadata": {},
   "outputs": [],
   "source": []
  },
  {
   "cell_type": "code",
   "execution_count": 18,
   "id": "bad95058-a084-4d60-a5c6-06cbdf73c6e4",
   "metadata": {
    "tags": []
   },
   "outputs": [],
   "source": [
    "Ratio = Factor_2*Factor_1"
   ]
  },
  {
   "cell_type": "code",
   "execution_count": 19,
   "id": "410746f6-1cd1-4726-bc3f-2a173da1f128",
   "metadata": {
    "tags": []
   },
   "outputs": [
    {
     "data": {
      "text/plain": [
       "array([4.07529451e+00, 3.75194656e+00, 1.85871109e+01, 8.37304226e+12,\n",
       "       3.69590800e+00, 5.14751731e+00, 2.02562240e+04, 3.57060602e+00,\n",
       "       4.52073801e+11, 3.47321591e+00])"
      ]
     },
     "execution_count": 19,
     "metadata": {},
     "output_type": "execute_result"
    }
   ],
   "source": [
    "Ratio"
   ]
  },
  {
   "cell_type": "markdown",
   "id": "036e0030-47e9-4c14-9cbd-4b628d5c1f77",
   "metadata": {},
   "source": [
    "##### The __highest__ Probabilities by factor 10^n are :  __8.373e+12 (locus #4)__ and __4.5207e+11 (locus #9)__ and __2.02562e+04 (locus #7)__"
   ]
  },
  {
   "cell_type": "code",
   "execution_count": null,
   "id": "09adc7c0-0cca-4bef-acdb-c00613c29f03",
   "metadata": {},
   "outputs": [],
   "source": []
  },
  {
   "cell_type": "code",
   "execution_count": 20,
   "id": "a53e0910-df1a-4f30-a54e-2fa96fbf559b",
   "metadata": {
    "tags": []
   },
   "outputs": [
    {
     "data": {
      "text/plain": [
       "array([170.68, 171.28, 171.88, 172.48, 173.08, 173.68, 174.28, 174.88,\n",
       "       175.48, 176.08, 176.68, 177.28, 177.88, 178.48, 179.08, 179.68,\n",
       "       180.28, 180.88, 181.48, 182.08, 182.68, 183.28, 183.88, 184.48,\n",
       "       185.08, 185.68, 186.28, 186.88, 187.48, 188.08, 188.68, 189.28,\n",
       "       189.88, 190.48, 191.08, 191.68, 192.28, 192.88, 193.48, 194.08,\n",
       "       194.68, 195.28, 195.88, 196.48, 197.08, 197.68, 198.28, 198.88,\n",
       "       199.48, 200.08])"
      ]
     },
     "execution_count": 20,
     "metadata": {},
     "output_type": "execute_result"
    }
   ],
   "source": [
    "np.linspace(np.min(f), np.max(f), 50)"
   ]
  },
  {
   "cell_type": "code",
   "execution_count": 21,
   "id": "da25cb03-caab-46e8-8fb4-afbd8b7fbede",
   "metadata": {
    "tags": []
   },
   "outputs": [
    {
     "data": {
      "image/png": "[encoded data removed]",
      "text/plain": [
       "<Figure size 640x480 with 1 Axes>"
      ]
     },
     "metadata": {},
     "output_type": "display_data"
    }
   ],
   "source": [
    "%matplotlib inline\n",
    "import matplotlib.pyplot as plt\n",
    "\n",
    "bs = np.linspace(np.min(f), np.max(f), 50)\n",
    "\n",
    "\n",
    "plt.hist(f, bins=bs, alpha=0.5, label='Histogram of sine song frequencies $f_k$')\n",
    "#plt.legend(loc='upper left', bbox_to_anchor=(1.05, 1), borderaxespad=0)\n",
    "\n",
    "plt.title('Histogram of sine song frequencies $f_k$')\n",
    "plt.axvline(f_bar, ls='--', c='C1', label='c')\n",
    "plt.plot(f_bar, 0,'o')\n",
    "plt.xticks(range(170, 201, 5),['170', '175', '180','Mean $\\\\bar{f}$','190','195','200'])\n",
    "\n",
    "plt.savefig(\"histogram_plot_QTL.png\")\n",
    "plt.show()\n"
   ]
  },
  {
   "cell_type": "code",
   "execution_count": null,
   "id": "b1be6a89-a512-48df-b79f-30660470d902",
   "metadata": {
    "tags": []
   },
   "outputs": [],
   "source": []
  },
  {
   "cell_type": "code",
   "execution_count": 22,
   "id": "ecf92bc1-7b51-4618-87ef-6d5ab9c2e3cb",
   "metadata": {
    "tags": []
   },
   "outputs": [
    {
     "data": {
      "text/plain": [
       "184.9926740947075"
      ]
     },
     "execution_count": 22,
     "metadata": {},
     "output_type": "execute_result"
    }
   ],
   "source": [
    "f_bar"
   ]
  },
  {
   "cell_type": "code",
   "execution_count": null,
   "id": "c0564b4a-3bf5-4d39-ae9b-6c3dc99bf88b",
   "metadata": {},
   "outputs": [],
   "source": []
  },
  {
   "cell_type": "markdown",
   "id": "c434f5b1-c4d6-40f3-ae64-fd800291aa3a",
   "metadata": {},
   "source": [
    "### @ Thanks for reading"
   ]
  }
 ],
 "metadata": {
  "kernelspec": {
   "display_name": "Python 3 (ipykernel)",
   "language": "python",
   "name": "python3"
  },
  "language_info": {
   "codemirror_mode": {
    "name": "ipython",
    "version": 3
   },
   "file_extension": ".py",
   "mimetype": "text/x-python",
   "name": "python",
   "nbconvert_exporter": "python",
   "pygments_lexer": "ipython3",
   "version": "3.11.3"
  }
 },
 "nbformat": 4,
 "nbformat_minor": 5
}
